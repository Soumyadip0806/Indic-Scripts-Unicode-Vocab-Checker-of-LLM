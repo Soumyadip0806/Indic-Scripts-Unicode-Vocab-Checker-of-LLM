{
  "nbformat": 4,
  "nbformat_minor": 0,
  "metadata": {
    "colab": {
      "provenance": []
    },
    "kernelspec": {
      "name": "python3",
      "display_name": "Python 3"
    },
    "language_info": {
      "name": "python"
    }
  },
  "cells": [
    {
      "cell_type": "markdown",
      "source": [
        "## Bengali\n"
      ],
      "metadata": {
        "id": "IMLZnTD6lXqZ"
      }
    },
    {
      "cell_type": "code",
      "execution_count": null,
      "metadata": {
        "id": "pTT6MWoYdKPJ"
      },
      "outputs": [],
      "source": [
        "import unicodedata\n",
        "\n",
        "# Range for Bengali script in Unicode\n",
        "bengali_range = range(0x0980, 0x09FF + 1)\n",
        "\n",
        "\n",
        "bengali_characters = [\n",
        "    chr(codepoint)\n",
        "    for codepoint in bengali_range\n",
        "    if unicodedata.category(chr(codepoint)) != \"Cn\"\n",
        "]\n",
        "\n",
        "\n",
        "print(bengali_characters)\n",
        "print(len(bengali_characters))\n"
      ]
    },
    {
      "cell_type": "markdown",
      "source": [
        "## Arabic"
      ],
      "metadata": {
        "id": "pBUafkp2lTgA"
      }
    },
    {
      "cell_type": "code",
      "source": [
        "import unicodedata\n",
        "\n",
        "# Range for Arabic script (Perso-Arabic) in Unicode\n",
        "arabic_range = range(0x0600, 0x06FF + 1)\n",
        "\n",
        "\n",
        "arabic_characters = [\n",
        "    chr(codepoint)\n",
        "    for codepoint in arabic_range\n",
        "    if unicodedata.category(chr(codepoint)) not in [\"Cn\", \"Co\"]\n",
        "]\n",
        "\n",
        "\n",
        "print(arabic_characters)\n",
        "print(len(arabic_characters))\n"
      ],
      "metadata": {
        "id": "9KIqXOUbjwi1"
      },
      "execution_count": null,
      "outputs": []
    },
    {
      "cell_type": "markdown",
      "source": [
        "## Devanagari"
      ],
      "metadata": {
        "id": "0XmOq7EmlPSu"
      }
    },
    {
      "cell_type": "code",
      "source": [
        "import unicodedata\n",
        "\n",
        "# Range for Devanagari script in Unicode\n",
        "devanagari_range = range(0x0900, 0x097F + 1)\n",
        "\n",
        "\n",
        "devanagari_characters = [\n",
        "    chr(codepoint)\n",
        "    for codepoint in devanagari_range\n",
        "    if unicodedata.category(chr(codepoint)) != \"Cn  # Exclude unassigned code points\n",
        "]\n",
        "\n",
        "\n",
        "print(devanagari_characters)\n",
        "print(f\"Total Devanagari characters: {len(devanagari_characters)}\")\n"
      ],
      "metadata": {
        "id": "usXii9o-jxT2"
      },
      "execution_count": null,
      "outputs": []
    },
    {
      "cell_type": "markdown",
      "source": [
        "## Gujarati"
      ],
      "metadata": {
        "id": "nv7e8RvalLj-"
      }
    },
    {
      "cell_type": "code",
      "source": [
        "import unicodedata\n",
        "\n",
        "# Range for Gujarati script in Unicode\n",
        "gujarati_range = range(0x0A80, 0x0AFF + 1)\n",
        "\n",
        "\n",
        "gujarati_characters = [\n",
        "    chr(codepoint)\n",
        "    for codepoint in gujarati_range\n",
        "    if unicodedata.category(chr(codepoint)) != \"Cn\"\n",
        "]\n",
        "\n",
        "\n",
        "print(gujarati_characters)\n",
        "print(len(gujarati_characters))\n"
      ],
      "metadata": {
        "id": "nq3bhoJTj0ik"
      },
      "execution_count": null,
      "outputs": []
    },
    {
      "cell_type": "markdown",
      "source": [
        "## Odia"
      ],
      "metadata": {
        "id": "oBtE8lBdlGxP"
      }
    },
    {
      "cell_type": "code",
      "source": [
        "import unicodedata\n",
        "\n",
        "# Range for Odia script in Unicode\n",
        "odia_range = range(0x0B00, 0x0B7F + 1)\n",
        "\n",
        "\n",
        "odia_characters = [\n",
        "    chr(codepoint)\n",
        "    for codepoint in odia_range\n",
        "    if unicodedata.category(chr(codepoint)) != \"Cn\"\n",
        "]\n",
        "\n",
        "\n",
        "print(odia_characters)\n",
        "print(len(odia_characters))\n"
      ],
      "metadata": {
        "id": "ztbCxbvVj2Nq"
      },
      "execution_count": null,
      "outputs": []
    },
    {
      "cell_type": "markdown",
      "source": [
        "## Gurmukhi"
      ],
      "metadata": {
        "id": "ypJoh4c9lDZX"
      }
    },
    {
      "cell_type": "code",
      "source": [
        "import unicodedata\n",
        "\n",
        "# Range for Gurmukhi script in Unicode\n",
        "gurmukhi_range = range(0x0A00, 0x0A7F + 1)\n",
        "\n",
        "\n",
        "gurmukhi_characters = [\n",
        "    chr(codepoint)\n",
        "    for codepoint in gurmukhi_range\n",
        "    if unicodedata.category(chr(codepoint)) != \"Cn\"\n",
        "]\n",
        "\n",
        "\n",
        "print(gurmukhi_characters)\n",
        "print(len(gurmukhi_characters))\n"
      ],
      "metadata": {
        "id": "wMbmTcMcj32D"
      },
      "execution_count": null,
      "outputs": []
    },
    {
      "cell_type": "markdown",
      "source": [
        "## Kannada"
      ],
      "metadata": {
        "id": "6goiDSH4k_mm"
      }
    },
    {
      "cell_type": "code",
      "source": [
        "import unicodedata\n",
        "\n",
        "# Range for Kannada script in Unicode\n",
        "kannada_range = range(0x0C80, 0x0CFF + 1)\n",
        "\n",
        "# Include U+0CF3 (sign virama), which is used for forming conjuncts\n",
        "kannada_range = list(kannada_range) + [0x0CF3]\n",
        "\n",
        "\n",
        "kannada_characters = [\n",
        "    chr(codepoint)\n",
        "    for codepoint in kannada_range\n",
        "    if unicodedata.category(chr(codepoint)) != \"Cn\"\n",
        "]\n",
        "\n",
        "\n",
        "print(kannada_characters)\n",
        "print(len(kannada_characters))\n"
      ],
      "metadata": {
        "id": "7DfM8djPj5nM"
      },
      "execution_count": null,
      "outputs": []
    },
    {
      "cell_type": "markdown",
      "source": [
        "## Malayalam"
      ],
      "metadata": {
        "id": "Nk0CVdmok6Wh"
      }
    },
    {
      "cell_type": "code",
      "source": [
        "import unicodedata\n",
        "\n",
        "# Range for Malayalam script in Unicode\n",
        "malayalam_range = range(0x0D00, 0x0D7F + 1)\n",
        "\n",
        "\n",
        "malayalam_characters = [\n",
        "    chr(codepoint)\n",
        "    for codepoint in malayalam_range\n",
        "    if unicodedata.category(chr(codepoint)) != \"Cn\"\n",
        "]\n",
        "\n",
        "\n",
        "print(malayalam_characters)\n",
        "print(len(malayalam_characters))\n"
      ],
      "metadata": {
        "id": "BuvJ5j3Rj9Tl"
      },
      "execution_count": null,
      "outputs": []
    },
    {
      "cell_type": "markdown",
      "source": [
        "## Tamil"
      ],
      "metadata": {
        "id": "UGyPtUlek0Dk"
      }
    },
    {
      "cell_type": "code",
      "source": [
        "import unicodedata\n",
        "\n",
        "# Range for Tamil script in Unicode\n",
        "tamil_range = range(0x0B80, 0x0BFF + 1)\n",
        "\n",
        "\n",
        "tamil_characters = [\n",
        "    chr(codepoint)\n",
        "    for codepoint in tamil_range\n",
        "    if unicodedata.category(chr(codepoint)) != \"Cn\"\n",
        "]\n",
        "\n",
        "\n",
        "print(tamil_characters)\n",
        "print(len(tamil_characters))\n"
      ],
      "metadata": {
        "id": "81qczbsqj_m3"
      },
      "execution_count": null,
      "outputs": []
    },
    {
      "cell_type": "markdown",
      "source": [
        "## Telugu"
      ],
      "metadata": {
        "id": "BqTyjY-jkv5l"
      }
    },
    {
      "cell_type": "code",
      "source": [
        "import unicodedata\n",
        "\n",
        "# Range for Telugu script in Unicode\n",
        "telugu_range = range(0x0C00, 0x0C7F + 1)\n",
        "\n",
        "\n",
        "telugu_characters = [\n",
        "    chr(codepoint)\n",
        "    for codepoint in telugu_range\n",
        "    if unicodedata.category(chr(codepoint)) != \"Cn\"\n",
        "]\n",
        "\n",
        "\n",
        "print(telugu_characters)\n",
        "print(len(telugu_characters))\n"
      ],
      "metadata": {
        "id": "9d5eoJGDkBcN"
      },
      "execution_count": null,
      "outputs": []
    },
    {
      "cell_type": "markdown",
      "source": [
        "## Meitei"
      ],
      "metadata": {
        "id": "3bPADZWDknkI"
      }
    },
    {
      "cell_type": "code",
      "source": [
        "import unicodedata\n",
        "\n",
        "# Range for Meitei Mayek script in Unicode (U+ABC0 to U+ABFF)\n",
        "meitei_range = range(0xABC0, 0xABFF + 1)\n",
        "\n",
        "\n",
        "meitei_characters = [\n",
        "    chr(codepoint)\n",
        "    for codepoint in meitei_range\n",
        "    if unicodedata.category(chr(codepoint)) != \"Cn\"\n",
        "]\n",
        "\n",
        "\n",
        "print(meitei_characters)\n",
        "print(len(meitei_characters))\n"
      ],
      "metadata": {
        "id": "uZeai-Y3kDiD"
      },
      "execution_count": null,
      "outputs": []
    },
    {
      "cell_type": "markdown",
      "source": [
        "## Devanagari"
      ],
      "metadata": {
        "id": "C2-XiNnLki_b"
      }
    },
    {
      "cell_type": "code",
      "source": [
        "import unicodedata\n",
        "\n",
        "# Range for Devanagari script in Unicode\n",
        "devanagari_range = range(0x0900, 0x097F + 1)\n",
        "\n",
        "\n",
        "devanagari_characters = [\n",
        "    chr(codepoint)\n",
        "    for codepoint in devanagari_range\n",
        "    if unicodedata.category(chr(codepoint)) != \"Cn\"\n",
        "]\n",
        "\n",
        "print(devanagari_characters)\n",
        "print(len(devanagari_characters))\n"
      ],
      "metadata": {
        "id": "sNhKxglAkFlY"
      },
      "execution_count": null,
      "outputs": []
    },
    {
      "cell_type": "markdown",
      "source": [
        "## Ol-Chiki"
      ],
      "metadata": {
        "id": "hV05te5fkffJ"
      }
    },
    {
      "cell_type": "code",
      "source": [
        "import unicodedata\n",
        "\n",
        "# Range for Ol Chiki script in Unicode\n",
        "ol_chiki_range = range(0x1C50, 0x1C7F + 1)\n",
        "\n",
        "\n",
        "ol_chiki_characters = [\n",
        "    chr(codepoint)\n",
        "    for codepoint in ol_chiki_range\n",
        "    if unicodedata.category(chr(codepoint)) != \"Cn\"\n",
        "]\n",
        "\n",
        "print(ol_chiki_characters)\n",
        "print(len(ol_chiki_characters))\n"
      ],
      "metadata": {
        "id": "LzIF9xQCkHiw"
      },
      "execution_count": null,
      "outputs": []
    },
    {
      "cell_type": "markdown",
      "source": [
        "## Save The unicode character"
      ],
      "metadata": {
        "id": "3rdtiPdjkSvu"
      }
    },
    {
      "cell_type": "code",
      "source": [
        "import unicodedata\n",
        "\n",
        "\n",
        "def save_characters_to_file(characters, filename):\n",
        "    with open(filename, 'w', encoding='utf-8') as file:\n",
        "        for char in characters:\n",
        "            file.write(char + '\\n')\n",
        "\n",
        "\n",
        "save_characters_to_file(bengali_characters, 'bengali_characters.txt')\n",
        "save_characters_to_file(devanagari_characters, 'devanagari_characters.txt')\n",
        "save_characters_to_file(gujarati_characters, 'gujarati_characters.txt')\n",
        "save_characters_to_file(odia_characters, 'odia_characters.txt')\n",
        "save_characters_to_file(gurmukhi_characters, 'gurmukhi_characters.txt')\n",
        "save_characters_to_file(kannada_characters, 'kannada_characters.txt')\n",
        "save_characters_to_file(malayalam_characters, 'malayalam_characters.txt')\n",
        "save_characters_to_file(tamil_characters, 'tamil_characters.txt')\n",
        "save_characters_to_file(telugu_characters, 'telugu_characters.txt')\n",
        "save_characters_to_file(meitei_characters, 'meitei_characters.txt')\n",
        "save_characters_to_file(ol_chiki_characters, 'ol_chiki_characters.txt')"
      ],
      "metadata": {
        "id": "6b6AA9ZckN5H"
      },
      "execution_count": null,
      "outputs": []
    }
  ]
}